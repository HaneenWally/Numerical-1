{
 "cells": [
  {
   "cell_type": "markdown",
   "metadata": {},
   "source": [
    "# Source Code"
   ]
  },
  {
   "cell_type": "code",
   "execution_count": 540,
   "metadata": {
    "ExecuteTime": {
     "end_time": "2018-12-13T12:39:07.837050Z",
     "start_time": "2018-12-13T12:39:07.815213Z"
    }
   },
   "outputs": [],
   "source": [
    "import numpy as np\n",
    "\n",
    "\n",
    "def powerMethod(A, initial=None, epsilon=None, numberOfIterations=100, minEigen=False):\n",
    "    \"\"\"\n",
    "    A function to calculate largest eigen value and eigen vector of a matrix, and approximate relative error\n",
    "\n",
    "    Args: \n",
    "            A (numpy array): Matrix to get eigen value/vector (size n*n)\n",
    "            initial (numpy array): Vector used as initial guess of eigen vector (size 1*n)\n",
    "            epsilon (float): Stopping criteria at which eigen value is considered converged\n",
    "            numberOfIterations (int): Number of iterations untill stopping\n",
    "            minEigen (boolean): Calculate smallest eigen value or largest\n",
    "\n",
    "    Returns:\n",
    "            eigenValue (numpy float)\n",
    "            eigenVector (numpy array)\n",
    "            error (float)\n",
    "    Raises:\n",
    "            TypeError\n",
    "            ValueError\n",
    "\n",
    "    \"\"\"\n",
    "\n",
    "    ##Validate input##\n",
    "\n",
    "    # negative number of iterations\n",
    "    if numberOfIterations <= 0:\n",
    "        raise ValueError(\"Number of iterations should be positive\")\n",
    "\n",
    "    # invalid type of matrix A\n",
    "    if not isinstance(A, np.ndarray):\n",
    "        raise TypeError(\"A should be of type numpy.ndarray\")\n",
    "\n",
    "    # invalid type of vector initial\n",
    "    if (initial is not None) and (not isinstance(A, np.ndarray)):\n",
    "        raise TypeError(\"initial should be of type numpy.ndarray\")\n",
    "\n",
    "    # check initial is 1d array\n",
    "    if (initial is not None) and (initial.ndim != 1):\n",
    "        raise TypeError(\"initial should be 1D array\")\n",
    "\n",
    "    # number of iterations is not integer\n",
    "    if not isinstance(numberOfIterations, int):\n",
    "        raise TypeError(\"Number of iterations should be integer\")\n",
    "\n",
    "    #matrix is not square\n",
    "    if A.shape[0] != A.shape[1]:\n",
    "        raise TypeError(\"Matrix should be square\")\n",
    "\n",
    "    # check size of initial vector\n",
    "    if (initial is not None) and (initial.shape[0] != A.shape[1]):\n",
    "        raise TypeError(\"Length of initial vector should match size of matrix\")\n",
    "\n",
    "    ##Calculate eigen pair##\n",
    "\n",
    "    # dimension of matrix\n",
    "    n = A.shape[0]\n",
    "\n",
    "    if minEigen:\n",
    "        try:\n",
    "            A = np.linalg.inv(A)\n",
    "        except:\n",
    "            #Matrix is not invertible\n",
    "            raise TypeError(\"Matrix should be invertible\")\n",
    "\n",
    "    if initial is None:\n",
    "        # initial guess for eigen vector\n",
    "        x = np.random.rand(n)\n",
    "    else:\n",
    "        x = initial.copy()\n",
    "        x = x.astype(np.float32)\n",
    "\n",
    "    # Relative approximate error between each iteration\n",
    "    error = None\n",
    "    # Eigen value calculated at previous iteration\n",
    "    prevEigen = None\n",
    "\n",
    "    # iterate to get eigen value/eigen vector\n",
    "    # Stops after numberOfIterations or after error is less than epsilon\n",
    "    # whichever comes first\n",
    "    for i in range(numberOfIterations):\n",
    "        x = np.dot(A, x)\n",
    "        eigenValue = x[np.argmax(np.abs(x))]\n",
    "        # If there isn't any left eigen values\n",
    "        if eigenValue == 0:\n",
    "            break\n",
    "        x /= eigenValue\n",
    "        if prevEigen is not None:\n",
    "\n",
    "            # I believe it should be relative error, not relative approximate error\n",
    "            # but doctor asked us to do it as relative approximate error, so I did it\n",
    "            #error = abs(eigenValue-prevEigen)\n",
    "            error = np.abs((eigenValue-prevEigen)/eigenValue)\n",
    "\n",
    "            if (epsilon is not None) and (error <= epsilon):\n",
    "                break\n",
    "        prevEigen = eigenValue\n",
    "\n",
    "    if(minEigen and eigenValue != 0):\n",
    "        eigenValue = 1/eigenValue\n",
    "\n",
    "    # Eigen Value, Eigen Vector, Relative approximate error\n",
    "    return eigenValue, x, error"
   ]
  },
  {
   "cell_type": "code",
   "execution_count": 541,
   "metadata": {
    "ExecuteTime": {
     "end_time": "2018-12-13T12:39:07.923258Z",
     "start_time": "2018-12-13T12:39:07.839461Z"
    }
   },
   "outputs": [],
   "source": [
    "def deflate(A, initial=None, epsilon=None, numberOfIterations=100, minEigen=False):\n",
    "    \"\"\"\n",
    "    A function to calculate second largest eigen value and eigen vector of a matrix, and approximate relative error\n",
    "\n",
    "    Args: \n",
    "            A (numpy array): Matrix to get eigen value/vector (size n*n)\n",
    "            initial (numpy array): Vector used as initial guess of eigen vector (size 1*n)\n",
    "            epsilon (float): Stopping criteria at which eigen value is considered converged\n",
    "            numberOfIterations (int): Number of iterations untill stopping\n",
    "            minEigen (boolean): Calculate smallest eigen value or largest\n",
    "\n",
    "    Returns:\n",
    "            deflatedMat (numpy array)\n",
    "            eigenValue (numpy float)\n",
    "            eigenVector (numpy array)\n",
    "            error (numpy float)\n",
    "    Raises:\n",
    "            TypeError\n",
    "            ValueError\n",
    "\n",
    "    \"\"\"\n",
    "    \n",
    "    #get largest eigen value for A\n",
    "    eigenValue, eigenVector, error = powerMethod(A, initial, epsilon, numberOfIterations, minEigen)\n",
    "\n",
    "    eigenVectorNormalized = eigenVector/np.linalg.norm(eigenVector)\n",
    "\n",
    "    if minEigen:\n",
    "        try:\n",
    "            A = np.linalg.inv(A)\n",
    "        except:\n",
    "            #Matrix is not invertible\n",
    "            raise TypeError(\"Matrix should be invertible\")\n",
    "\n",
    "    # get deflated matrix (B = A - lambda.x*.x*T), where x* is normalized eigen vector\n",
    "    deflatedMat = A-eigenValue*np.outer(eigenVectorNormalized, eigenVectorNormalized.T)\n",
    "\n",
    "    # get largest eigen value for deflated matrix\n",
    "    eigenValue, eigenVector, error = powerMethod(deflatedMat, initial, epsilon, numberOfIterations)\n",
    "\n",
    "    if minEigen and eigenValue != 0:\n",
    "        eigenValue = 1/eigenValue\n",
    "\n",
    "    return deflatedMat, eigenValue, eigenVector, error"
   ]
  },
  {
   "cell_type": "markdown",
   "metadata": {},
   "source": [
    "# Test Cases"
   ]
  },
  {
   "cell_type": "code",
   "execution_count": 542,
   "metadata": {
    "ExecuteTime": {
     "end_time": "2018-12-13T12:39:08.024229Z",
     "start_time": "2018-12-13T12:39:07.925531Z"
    }
   },
   "outputs": [
    {
     "name": "stdout",
     "output_type": "stream",
     "text": [
      "5.302775637731995\n",
      "[-0.30277564  1.         -1.          0.30277564]\n",
      "0.0\n",
      "[[ 1.7773501  -0.26463733 -0.73536267  0.2226499 ]\n",
      " [-0.26463733  1.57126208  1.42873792 -0.73536267]\n",
      " [-0.73536267  1.42873792  1.57126208 -0.26463733]\n",
      " [ 0.2226499  -0.73536267 -0.26463733  1.7773501 ]]\n",
      "3.618033988749895\n",
      "[-0.61803399  1.          1.         -0.61803399]\n",
      "0.0\n"
     ]
    }
   ],
   "source": [
    "np.set_printoptions(suppress=True)\n",
    "\n",
    "mat = np.array([[2, -1, 0, 0],\n",
    "                [-1, 4, -1, 0],\n",
    "                [0, -1, 4, -1],\n",
    "                [0, 0, -1, 2]])\n",
    "\n",
    "# Example of initial guess\n",
    "init = np.array([2, -1, 0, 0])\n",
    "e, x, error = powerMethod(mat, initial=init)\n",
    "print(e)\n",
    "print(x)\n",
    "print(error)\n",
    "\n",
    "deflated, e, x, error = deflate(mat)\n",
    "print(deflated)\n",
    "print(e)\n",
    "print(x)\n",
    "print(error)"
   ]
  },
  {
   "cell_type": "code",
   "execution_count": 543,
   "metadata": {
    "ExecuteTime": {
     "end_time": "2018-12-13T12:39:08.091817Z",
     "start_time": "2018-12-13T12:39:08.029439Z"
    }
   },
   "outputs": [
    {
     "name": "stdout",
     "output_type": "stream",
     "text": [
      "[[-7  2]\n",
      " [ 8 -1]]\n",
      "-9.0\n",
      "[ 1. -1.]\n",
      "0.0\n",
      "[[-2.5 -2.5]\n",
      " [ 3.5  3.5]]\n",
      "1.0000000000000004\n",
      "[-0.71428571  1.        ]\n",
      "4.440892098500624e-16\n",
      "1.0\n",
      "[0.25 1.  ]\n",
      "0.0\n"
     ]
    }
   ],
   "source": [
    "mat = np.array([[-7, 2],\n",
    "                [8, -1]])\n",
    "print(mat)\n",
    "e, x, error = powerMethod(mat)\n",
    "print(e)\n",
    "print(x)\n",
    "print(error)\n",
    "\n",
    "deflated, e, x, error = deflate(mat)\n",
    "print(deflated)\n",
    "print(e)\n",
    "print(x)\n",
    "print(error)\n",
    "\n",
    "e, x, error = powerMethod(mat, minEigen=True)\n",
    "print(e)\n",
    "print(x)\n",
    "print(error)"
   ]
  },
  {
   "cell_type": "code",
   "execution_count": 544,
   "metadata": {
    "ExecuteTime": {
     "end_time": "2018-12-13T12:39:08.185112Z",
     "start_time": "2018-12-13T12:39:08.095853Z"
    }
   },
   "outputs": [
    {
     "name": "stdout",
     "output_type": "stream",
     "text": [
      "4.0\n",
      "[1. 1.]\n",
      "0.0\n",
      "[[-1.  1.]\n",
      " [ 0.  0.]]\n",
      "-1.0\n",
      "[ 1. -0.]\n",
      "0.0\n"
     ]
    }
   ],
   "source": [
    "mat = np.array([[1, 3],\n",
    "                [2, 2]])\n",
    "\n",
    "e, x, error = powerMethod(mat)\n",
    "print(e)\n",
    "print(x)\n",
    "print(error)\n",
    "\n",
    "deflated, e, x, error = deflate(mat)\n",
    "print(deflated)\n",
    "print(e)\n",
    "print(x)\n",
    "print(error)"
   ]
  },
  {
   "cell_type": "code",
   "execution_count": 545,
   "metadata": {
    "ExecuteTime": {
     "end_time": "2018-12-13T12:39:08.268777Z",
     "start_time": "2018-12-13T12:39:08.187034Z"
    },
    "scrolled": false
   },
   "outputs": [
    {
     "name": "stdout",
     "output_type": "stream",
     "text": [
      "7.0\n",
      "[0.5 1.  1. ]\n",
      "0.0\n",
      "[[ 2.22222222  0.44444444 -1.55555556]\n",
      " [ 0.44444444  0.88888889 -1.11111111]\n",
      " [-1.55555556 -1.11111111  1.88888889]]\n",
      "4.0\n",
      "[ 1.   0.5 -1. ]\n",
      "0.0\n"
     ]
    }
   ],
   "source": [
    "mat = np.array([[3, 2, 0],\n",
    "                [2, 4, 2],\n",
    "                [0, 2, 5]])\n",
    "e, x, error = powerMethod(mat)\n",
    "print(e)\n",
    "print(x)\n",
    "print(error)\n",
    "\n",
    "deflated, e, x, error = deflate(mat)\n",
    "print(deflated)\n",
    "print(e)\n",
    "print(x)\n",
    "print(error)"
   ]
  },
  {
   "cell_type": "code",
   "execution_count": 546,
   "metadata": {
    "ExecuteTime": {
     "end_time": "2018-12-13T12:39:08.382913Z",
     "start_time": "2018-12-13T12:39:08.277844Z"
    }
   },
   "outputs": [
    {
     "name": "stdout",
     "output_type": "stream",
     "text": [
      "3.0\n",
      "[1. 0.]\n",
      "0.0\n",
      "[[ 0. -0.]\n",
      " [-0.  2.]]\n",
      "2.0\n",
      "[-0.  1.]\n",
      "0.0\n"
     ]
    }
   ],
   "source": [
    "mat = np.array([[3, 0],\n",
    "                [0, 2]])\n",
    "\n",
    "e, x, error = powerMethod(mat)\n",
    "print(e)\n",
    "print(x)\n",
    "print(error)\n",
    "\n",
    "deflated, e, x, error = deflate(mat)\n",
    "print(deflated)\n",
    "print(e)\n",
    "print(x)\n",
    "print(error)"
   ]
  },
  {
   "cell_type": "code",
   "execution_count": 547,
   "metadata": {
    "ExecuteTime": {
     "end_time": "2018-12-13T12:39:08.451970Z",
     "start_time": "2018-12-13T12:39:08.386773Z"
    }
   },
   "outputs": [
    {
     "name": "stdout",
     "output_type": "stream",
     "text": [
      "5.999999999999995\n",
      "[ 1.          0.71428571 -0.25      ]\n",
      "0.0\n",
      "[[-7.81508516 11.27493917  0.95377129]\n",
      " [-7.72506083 11.05352798  0.68126521]\n",
      " [-0.04622871  0.68126521  1.76155718]]\n",
      "3.0000000000000004\n",
      "[1.         0.91958042 0.46853147]\n",
      "0.0\n"
     ]
    }
   ],
   "source": [
    "mat = np.array([[-4, 14, 0],\n",
    "                [-5, 13, 0],\n",
    "                [-1, 0, 2]])\n",
    "\n",
    "e, x, error = powerMethod(mat)\n",
    "print(e)\n",
    "print(x)\n",
    "print(error)\n",
    "\n",
    "deflated, e, x, error = deflate(mat)\n",
    "print(deflated)\n",
    "print(e)\n",
    "print(x)\n",
    "print(error)"
   ]
  },
  {
   "cell_type": "code",
   "execution_count": 548,
   "metadata": {
    "ExecuteTime": {
     "end_time": "2018-12-13T12:39:08.530344Z",
     "start_time": "2018-12-13T12:39:08.453960Z"
    }
   },
   "outputs": [
    {
     "name": "stdout",
     "output_type": "stream",
     "text": [
      "0.5917690010920078\n",
      "[1.         0.68984857]\n",
      "1.8555881880138263\n",
      "[[ 0.6686819   0.73014216]\n",
      " [-0.26985784 -1.2197986 ]]\n",
      "-1.1089580496406666\n",
      "[-0.41073681  1.        ]\n",
      "0.0\n"
     ]
    }
   ],
   "source": [
    "mat = np.array([[1, 1],\n",
    "                [0, -1]])\n",
    "\n",
    "e, x, error = powerMethod(mat)\n",
    "print(e)\n",
    "print(x)\n",
    "print(error)\n",
    "\n",
    "deflated, e, x, error = deflate(mat)\n",
    "print(deflated)\n",
    "print(e)\n",
    "print(x)\n",
    "print(error)"
   ]
  },
  {
   "cell_type": "code",
   "execution_count": 549,
   "metadata": {
    "ExecuteTime": {
     "end_time": "2018-12-13T12:39:08.632447Z",
     "start_time": "2018-12-13T12:39:08.532333Z"
    }
   },
   "outputs": [
    {
     "name": "stdout",
     "output_type": "stream",
     "text": [
      "4.000000000000014\n",
      "[ 0.33333333  0.         -0.66666667  1.          0.          0.33333333]\n",
      "2.8421709430403906e-14\n",
      "[[  86.73333333  270.          -11.46666667  -49.8        -276.\n",
      "    39.73333333]\n",
      " [ -14.          -45.            6.           10.           46.\n",
      "    -4.        ]\n",
      " [ -49.46666667 -156.            2.93333333   26.6         162.\n",
      "   -24.46666667]\n",
      " [  93.2         294.           -3.4         -49.4        -306.\n",
      "    48.2       ]\n",
      " [   1.            1.            3.            1.           -0.\n",
      "     2.        ]\n",
      " [  15.73333333   48.            1.53333333   -6.8         -48.\n",
      "     7.73333333]]\n",
      "2.999999999999783\n",
      "[-0.25  1.    0.25 -0.    1.    0.75]\n",
      "1.0643338062740605e-13\n"
     ]
    }
   ],
   "source": [
    "mat = np.array([[87, 270, -12, -49, -276, 40],\n",
    "                [-14, -45, 6, 10, 46, -4],\n",
    "                [-50, -156, 4, 25, 162, -25],\n",
    "                [94, 294, -5, -47, -306, 49],\n",
    "                [1, 1, 3, 1, 0, 2],\n",
    "                [16, 48, 1, -6, -48, 8]])\n",
    "\n",
    "e, x, error = powerMethod(mat)\n",
    "print(e)\n",
    "print(x)\n",
    "print(error)\n",
    "\n",
    "deflated, e, x, error = deflate(mat)\n",
    "print(deflated)\n",
    "print(e)\n",
    "print(x)\n",
    "print(error)"
   ]
  },
  {
   "cell_type": "code",
   "execution_count": 550,
   "metadata": {
    "ExecuteTime": {
     "end_time": "2018-12-13T12:39:08.723350Z",
     "start_time": "2018-12-13T12:39:08.643626Z"
    }
   },
   "outputs": [
    {
     "name": "stdout",
     "output_type": "stream",
     "text": [
      "-25.0\n",
      "[0. 0. 1. 0.]\n",
      "0.0\n",
      "[[ -7.   0.   0.   0.]\n",
      " [  0.  -1.   0.   0.]\n",
      " [  0.   0.   0.   0.]\n",
      " [  0.   0.   0. -12.]]\n",
      "-12.0\n",
      "[ 0.  0. -0.  1.]\n",
      "0.0\n",
      "[[-0.14285714  0.          0.          0.        ]\n",
      " [ 0.          0.          0.          0.        ]\n",
      " [ 0.          0.         -0.04        0.        ]\n",
      " [ 0.          0.          0.         -0.08333333]]\n",
      "-7.0\n",
      "[ 1. -0.  0.  0.]\n",
      "0.0\n",
      "-1.0\n",
      "[0. 1. 0. 0.]\n",
      "0.0\n"
     ]
    }
   ],
   "source": [
    "mat = np.array([[-7, 0, 0, 0],\n",
    "                [0, -1, 0, 0],\n",
    "                [0, 0, -25, 0],\n",
    "                [0, 0, 0, -12]])\n",
    "\n",
    "e, x, error = powerMethod(mat)\n",
    "print(e)\n",
    "print(x)\n",
    "print(error)\n",
    "\n",
    "deflated, e, x, error = deflate(mat)\n",
    "print(deflated)\n",
    "print(e)\n",
    "print(x)\n",
    "print(error)\n",
    "\n",
    "deflated, e, x, error = deflate(mat, minEigen=True)\n",
    "print(deflated)\n",
    "print(e)\n",
    "print(x)\n",
    "print(error)\n",
    "\n",
    "e, x, error = powerMethod(mat, minEigen=True)\n",
    "print(e)\n",
    "print(x)\n",
    "print(error)"
   ]
  },
  {
   "cell_type": "code",
   "execution_count": 551,
   "metadata": {
    "ExecuteTime": {
     "end_time": "2018-12-13T12:39:08.815609Z",
     "start_time": "2018-12-13T12:39:08.728968Z"
    }
   },
   "outputs": [
    {
     "name": "stdout",
     "output_type": "stream",
     "text": [
      "2.6398020042326564\n",
      "[0.56298354 1.         0.07681847]\n",
      "6.729129065558861e-16\n"
     ]
    }
   ],
   "source": [
    "mat = np.array([[1, 1, -1],\n",
    "                [1, 2, 1],\n",
    "                [2, -1, 1]])\n",
    "e, x, error = powerMethod(mat)\n",
    "print(e)\n",
    "print(x)\n",
    "print(error)"
   ]
  },
  {
   "cell_type": "code",
   "execution_count": 552,
   "metadata": {
    "ExecuteTime": {
     "end_time": "2018-12-13T12:39:08.895640Z",
     "start_time": "2018-12-13T12:39:08.829345Z"
    }
   },
   "outputs": [
    {
     "name": "stdout",
     "output_type": "stream",
     "text": [
      "-3.0\n",
      "[-0.33333333  1.         -0.66666667]\n",
      "1.4802973661668753e-16\n"
     ]
    }
   ],
   "source": [
    "mat = np.array([[-2, 1, 1],\n",
    "                [3, -2, 0],\n",
    "                [1, 3, 1]])\n",
    "e, x, error = powerMethod(mat)\n",
    "print(e)\n",
    "print(x)\n",
    "print(error)"
   ]
  },
  {
   "cell_type": "code",
   "execution_count": 553,
   "metadata": {
    "ExecuteTime": {
     "end_time": "2018-12-13T12:39:08.978669Z",
     "start_time": "2018-12-13T12:39:08.903855Z"
    }
   },
   "outputs": [
    {
     "name": "stdout",
     "output_type": "stream",
     "text": [
      "6.701562118716424\n",
      "[ 1.         -0.74031242]\n",
      "0.0\n"
     ]
    }
   ],
   "source": [
    "mat = np.array([[3, -5],\n",
    "                [-2, 4]])\n",
    "e, x, error = powerMethod(mat)\n",
    "print(e)\n",
    "print(x)\n",
    "print(error)"
   ]
  },
  {
   "cell_type": "code",
   "execution_count": 554,
   "metadata": {
    "ExecuteTime": {
     "end_time": "2018-12-13T12:39:09.054305Z",
     "start_time": "2018-12-13T12:39:08.990522Z"
    }
   },
   "outputs": [
    {
     "name": "stdout",
     "output_type": "stream",
     "text": [
      "5.372281323269014\n",
      "[0.45742711 1.        ]\n",
      "0.0\n"
     ]
    }
   ],
   "source": [
    "mat = np.array([[1, 2],\n",
    "                [3, 4]])\n",
    "e, x, error = powerMethod(mat)\n",
    "print(e)\n",
    "print(x)\n",
    "print(error)"
   ]
  },
  {
   "cell_type": "code",
   "execution_count": 555,
   "metadata": {
    "ExecuteTime": {
     "end_time": "2018-12-13T12:39:09.125060Z",
     "start_time": "2018-12-13T12:39:09.059272Z"
    }
   },
   "outputs": [
    {
     "name": "stdout",
     "output_type": "stream",
     "text": [
      "7.0\n",
      "[0.6 1. ]\n",
      "0.0\n"
     ]
    }
   ],
   "source": [
    "mat = np.array([[2, 3],\n",
    "                [5, 4]])\n",
    "e, x, error = powerMethod(mat)\n",
    "print(e)\n",
    "print(x)\n",
    "print(error)"
   ]
  },
  {
   "cell_type": "code",
   "execution_count": 556,
   "metadata": {
    "ExecuteTime": {
     "end_time": "2018-12-13T12:39:09.226739Z",
     "start_time": "2018-12-13T12:39:09.131846Z"
    }
   },
   "outputs": [
    {
     "name": "stdout",
     "output_type": "stream",
     "text": [
      "5.0\n",
      "[1.  0.5]\n",
      "0.0\n"
     ]
    }
   ],
   "source": [
    "mat = np.array([[4, 2],\n",
    "                [1, 3]])\n",
    "e, x, error = powerMethod(mat)\n",
    "print(e)\n",
    "print(x)\n",
    "print(error)"
   ]
  },
  {
   "cell_type": "code",
   "execution_count": null,
   "metadata": {},
   "outputs": [],
   "source": []
  },
  {
   "cell_type": "code",
   "execution_count": null,
   "metadata": {},
   "outputs": [],
   "source": []
  }
 ],
 "metadata": {
  "kernelspec": {
   "display_name": "Python 3",
   "language": "python",
   "name": "python3"
  },
  "language_info": {
   "codemirror_mode": {
    "name": "ipython",
    "version": 3
   },
   "file_extension": ".py",
   "mimetype": "text/x-python",
   "name": "python",
   "nbconvert_exporter": "python",
   "pygments_lexer": "ipython3",
   "version": "3.6.5"
  }
 },
 "nbformat": 4,
 "nbformat_minor": 2
}
