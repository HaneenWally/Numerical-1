{
 "cells": [
  {
   "cell_type": "markdown",
   "metadata": {},
   "source": [
    "# Source Code"
   ]
  },
  {
   "cell_type": "code",
   "execution_count": 104,
   "metadata": {
    "ExecuteTime": {
     "end_time": "2018-12-13T09:47:04.401005Z",
     "start_time": "2018-12-13T09:47:04.379781Z"
    }
   },
   "outputs": [],
   "source": [
    "import numpy as np\n",
    "\n",
    "\n",
    "def powerMethod(A, initial=None, numberOfIterations=100, minEigen=False):\n",
    "    \"\"\"\n",
    "    A function to calculate largest eigen value and eigen vector of a matrix\n",
    "\n",
    "    Args: \n",
    "            A (numpy array): Matrix to get eigen value/vector (size n*n)\n",
    "            initial (numpy array): Vector used as initial guess of eigen vector (size 1*n)\n",
    "            numberOfIterations (int): Number of iterations untill stopping\n",
    "            minEigen (boolean): Calculate smallest eigen value or largest\n",
    "\n",
    "    Returns:\n",
    "            eigenValue (float)\n",
    "            eigenVector (numpy array)\n",
    "\n",
    "    Raises:\n",
    "            TypeError\n",
    "            ValueError\n",
    "\n",
    "    \"\"\"\n",
    "\n",
    "    ##Validate input##\n",
    "\n",
    "    # negative number of iterations\n",
    "    if numberOfIterations <= 0:\n",
    "        raise ValueError(\"Number of iterations should be positive\")\n",
    "\n",
    "    # invalid type of matrix A\n",
    "    if not isinstance(A, np.ndarray):\n",
    "        raise TypeError(\"A should be of type numpy.ndarray\")\n",
    "\n",
    "    # invalid type of vector initial\n",
    "    if (initial is not None) and (not isinstance(A, np.ndarray)):\n",
    "        raise TypeError(\"initial should be of type numpy.ndarray\")\n",
    "\n",
    "    # check initial is 1d array\n",
    "    if (initial is not None) and (initial.ndim != 1):\n",
    "        raise TypeError(\"initial should be 1D array\")\n",
    "\n",
    "    # number of iterations is not integer\n",
    "    if not isinstance(numberOfIterations, int):\n",
    "        raise TypeError(\"Number of iterations should be integer\")\n",
    "\n",
    "    #matrix is not square\n",
    "    if A.shape[0] != A.shape[1]:\n",
    "        raise TypeError(\"Matrix should be square\")\n",
    "        \n",
    "    # check size of initial vector\n",
    "    if (initial is not None) and (initial.shape[0] != A.shape[1]):\n",
    "        raise TypeError(\"Length of initial vector should match size of matrix\")\n",
    "    \n",
    "    \n",
    "    ##Calculate eigen pair##\n",
    "    \n",
    "    # dimension of matrix\n",
    "    n = A.shape[0]\n",
    "    \n",
    "    if minEigen:\n",
    "        try:\n",
    "            A = np.linalg.inv(A)\n",
    "        except:\n",
    "            #Matrix is not invertible\n",
    "            raise TypeError(\"Matrix should be invertible\")\n",
    "\n",
    "    if initial is None:\n",
    "        # initial guess for eigen vector\n",
    "        x = np.ones(n, dtype=np.float32)\n",
    "    else:\n",
    "        x = initial.copy()\n",
    "        x = x.astype(np.float32)\n",
    "\n",
    "    # iterate to get eigen value/eigen vector\n",
    "    for i in range(numberOfIterations):\n",
    "        x = np.dot(A, x)\n",
    "        eigenValue = x[np.argmax(np.abs(x))]\n",
    "        x /= eigenValue\n",
    "\n",
    "    if(minEigen and eigenValue != 0):\n",
    "        eigenValue = 1/eigenValue\n",
    "\n",
    "    # Eigen Value, Eigen Vector\n",
    "    return eigenValue, x"
   ]
  },
  {
   "cell_type": "code",
   "execution_count": 105,
   "metadata": {
    "ExecuteTime": {
     "end_time": "2018-12-13T09:47:04.497777Z",
     "start_time": "2018-12-13T09:47:04.403748Z"
    }
   },
   "outputs": [],
   "source": [
    "def deflate(A):\n",
    "    \"\"\"\n",
    "    A function to calculate largest eigen value and eigen vector of a matrix\n",
    "\n",
    "    Args: \n",
    "            A (numpy array): Matrix to get deflated matrix\n",
    "\n",
    "    Returns:\n",
    "            deflatedMat (numpy array): Deflated matrix\n",
    "\n",
    "    Raises:\n",
    "            TypeError\n",
    "            ValueError\n",
    "\n",
    "    \"\"\"\n",
    "    eigenValue, eigenVector = powerMethod(A)\n",
    "    norm = np.sum(np.square(eigenVector))\n",
    "    return A-eigenValue/norm*np.outer(eigenVector, eigenVector.T)"
   ]
  },
  {
   "cell_type": "markdown",
   "metadata": {},
   "source": [
    "# Test Cases"
   ]
  },
  {
   "cell_type": "code",
   "execution_count": 106,
   "metadata": {
    "ExecuteTime": {
     "end_time": "2018-12-13T09:47:04.565368Z",
     "start_time": "2018-12-13T09:47:04.502665Z"
    }
   },
   "outputs": [
    {
     "name": "stdout",
     "output_type": "stream",
     "text": [
      "5.302775637731995\n",
      "[-0.30277564  1.         -1.          0.30277564]\n"
     ]
    }
   ],
   "source": [
    "np.set_printoptions(suppress=True)\n",
    "\n",
    "mat = np.array([[2, -1, 0, 0],\n",
    "                [-1, 4, -1, 0],\n",
    "                [0, -1, 4, -1],\n",
    "                [0, 0, -1, 2]])\n",
    "\n",
    "# Example of initial guess\n",
    "init = np.array([2, -1, 0, 0])\n",
    "e, x = powerMethod(mat, initial=init)\n",
    "print(e)\n",
    "print(x)"
   ]
  },
  {
   "cell_type": "code",
   "execution_count": 107,
   "metadata": {
    "ExecuteTime": {
     "end_time": "2018-12-13T09:47:04.627265Z",
     "start_time": "2018-12-13T09:47:04.569551Z"
    }
   },
   "outputs": [
    {
     "name": "stdout",
     "output_type": "stream",
     "text": [
      "4.0\n",
      "[1. 1.]\n",
      "[[-1.  1.]\n",
      " [ 0.  0.]]\n"
     ]
    }
   ],
   "source": [
    "mat = np.array([[1, 3],\n",
    "                [2, 2]])\n",
    "e, x = powerMethod(mat)\n",
    "print(e)\n",
    "print(x)\n",
    "\n",
    "print(deflate(mat))"
   ]
  },
  {
   "cell_type": "code",
   "execution_count": 108,
   "metadata": {
    "ExecuteTime": {
     "end_time": "2018-12-13T09:47:04.700558Z",
     "start_time": "2018-12-13T09:47:04.628932Z"
    }
   },
   "outputs": [
    {
     "name": "stdout",
     "output_type": "stream",
     "text": [
      "-9.0\n",
      "[ 1. -1.]\n",
      "[[-2.5 -2.5]\n",
      " [ 3.5  3.5]]\n",
      "1.0000000000000009\n",
      "[-0.71428571  1.        ]\n",
      "[[-2.83783784 -2.02702703]\n",
      " [ 3.97297297  2.83783784]]\n"
     ]
    }
   ],
   "source": [
    "mat = np.array([[-7, 2],\n",
    "                [8, -1]])\n",
    "\n",
    "e, x = powerMethod(mat)\n",
    "print(e)\n",
    "print(x)\n",
    "\n",
    "print(deflate(mat))\n",
    "\n",
    "mat = deflate(mat)\n",
    "\n",
    "e, x = powerMethod(mat)\n",
    "print(e)\n",
    "print(x)\n",
    "\n",
    "print(deflate(mat))"
   ]
  },
  {
   "cell_type": "code",
   "execution_count": 109,
   "metadata": {
    "ExecuteTime": {
     "end_time": "2018-12-13T09:47:04.773457Z",
     "start_time": "2018-12-13T09:47:04.702595Z"
    }
   },
   "outputs": [
    {
     "name": "stdout",
     "output_type": "stream",
     "text": [
      "7.0\n",
      "[0.5 1.  1. ]\n",
      "[[ 2.22222222  0.44444444 -1.55555556]\n",
      " [ 0.44444444  0.88888889 -1.11111111]\n",
      " [-1.55555556 -1.11111111  1.88888889]]\n",
      "4.0\n",
      "[-1.  -0.5  1. ]\n",
      "1.0000000000000002\n",
      "[ 1.  -1.   0.5]\n"
     ]
    }
   ],
   "source": [
    "mat = np.array([[3, 2, 0],\n",
    "                [2, 4, 2],\n",
    "                [0, 2, 5]])\n",
    "\n",
    "e, x = powerMethod(mat)\n",
    "print(e)\n",
    "print(x)\n",
    "\n",
    "print(deflate(mat))\n",
    "\n",
    "e, x = powerMethod(deflate(mat), numberOfIterations=100)\n",
    "print(e)\n",
    "print(x)\n",
    "\n",
    "e, x = powerMethod(mat, minEigen=True)\n",
    "print(e)\n",
    "print(x)"
   ]
  },
  {
   "cell_type": "code",
   "execution_count": 110,
   "metadata": {
    "ExecuteTime": {
     "end_time": "2018-12-13T09:47:04.825291Z",
     "start_time": "2018-12-13T09:47:04.775140Z"
    }
   },
   "outputs": [
    {
     "name": "stdout",
     "output_type": "stream",
     "text": [
      "3.0\n",
      "[1. 0.]\n",
      "[[ 0. -0.]\n",
      " [-0.  2.]]\n",
      "2.0\n",
      "[-0.  1.]\n"
     ]
    }
   ],
   "source": [
    "mat = np.array([[3, 0],\n",
    "                [0, 2]])\n",
    "\n",
    "e, x = powerMethod(mat)\n",
    "print(e)\n",
    "print(x)\n",
    "\n",
    "print(deflate(mat))\n",
    "\n",
    "e, x = powerMethod(deflate(mat))\n",
    "print(e)\n",
    "print(x)"
   ]
  },
  {
   "cell_type": "code",
   "execution_count": 111,
   "metadata": {
    "ExecuteTime": {
     "end_time": "2018-12-13T09:47:04.897323Z",
     "start_time": "2018-12-13T09:47:04.827688Z"
    }
   },
   "outputs": [
    {
     "name": "stdout",
     "output_type": "stream",
     "text": [
      "6.000000000000002\n",
      "[ 1.          0.71428571 -0.25      ]\n",
      "[[-7.81508516 11.27493917  0.95377129]\n",
      " [-7.72506083 11.05352798  0.68126521]\n",
      " [-0.04622871  0.68126521  1.76155718]]\n",
      "2.9999999999999902\n",
      "[1.         0.91958042 0.46853147]\n",
      "2.0\n",
      "[-0. -0.  1.]\n"
     ]
    }
   ],
   "source": [
    "mat = np.array([[-4, 14, 0],\n",
    "                [-5, 13, 0],\n",
    "                [-1, 0, 2]])\n",
    "\n",
    "e, x = powerMethod(mat)\n",
    "print(e)\n",
    "print(x)\n",
    "\n",
    "print(deflate(mat))\n",
    "\n",
    "e, x = powerMethod(deflate(mat))\n",
    "print(e)\n",
    "print(x)\n",
    "\n",
    "e, x = powerMethod(mat, minEigen=True)\n",
    "print(e)\n",
    "print(x)"
   ]
  },
  {
   "cell_type": "code",
   "execution_count": 112,
   "metadata": {
    "ExecuteTime": {
     "end_time": "2018-12-13T09:47:04.959441Z",
     "start_time": "2018-12-13T09:47:04.902307Z"
    }
   },
   "outputs": [
    {
     "name": "stdout",
     "output_type": "stream",
     "text": [
      "0.5\n",
      "[1. 1.]\n",
      "[[ 0.75  0.75]\n",
      " [-0.25 -1.25]]\n"
     ]
    }
   ],
   "source": [
    "mat = np.array([[1, 1],\n",
    "                [0, -1]])\n",
    "\n",
    "e, x = powerMethod(mat)\n",
    "print(e)\n",
    "print(x)\n",
    "\n",
    "print(deflate(mat))"
   ]
  },
  {
   "cell_type": "code",
   "execution_count": 113,
   "metadata": {
    "ExecuteTime": {
     "end_time": "2018-12-13T09:47:05.053199Z",
     "start_time": "2018-12-13T09:47:04.961988Z"
    }
   },
   "outputs": [
    {
     "name": "stdout",
     "output_type": "stream",
     "text": [
      "3.9999999999999076\n",
      "[ 0.33333333  0.         -0.66666667  1.          0.          0.33333333]\n",
      "[[  86.73333333  270.          -11.46666667  -49.8        -276.\n",
      "    39.73333333]\n",
      " [ -14.          -45.            6.           10.           46.\n",
      "    -4.        ]\n",
      " [ -49.46666667 -156.            2.93333333   26.6         162.\n",
      "   -24.46666667]\n",
      " [  93.2         294.           -3.4         -49.4        -306.\n",
      "    48.2       ]\n",
      " [   1.            1.            3.            1.           -0.\n",
      "     2.        ]\n",
      " [  15.73333333   48.            1.53333333   -6.8         -48.\n",
      "     7.73333333]]\n"
     ]
    }
   ],
   "source": [
    "mat = np.array([[87, 270, -12, -49, -276, 40],\n",
    "                [-14, -45, 6, 10, 46, -4],\n",
    "                [-50, -156, 4, 25, 162, -25],\n",
    "                [94, 294, -5, -47, -306, 49],\n",
    "                [1, 1, 3, 1, 0, 2],\n",
    "                [16, 48, 1, -6, -48, 8]])\n",
    "\n",
    "e, x = powerMethod(mat)\n",
    "print(e)\n",
    "print(x)\n",
    "\n",
    "print(deflate(mat))"
   ]
  },
  {
   "cell_type": "code",
   "execution_count": 114,
   "metadata": {
    "ExecuteTime": {
     "end_time": "2018-12-13T09:47:05.126898Z",
     "start_time": "2018-12-13T09:47:05.065591Z"
    }
   },
   "outputs": [
    {
     "name": "stdout",
     "output_type": "stream",
     "text": [
      "[[ -7   0   0]\n",
      " [  0  -1   0]\n",
      " [  0   0 -25]]\n",
      "-25.0\n",
      "[0. 0. 1.]\n",
      "[[-7.  0.  0.]\n",
      " [ 0. -1.  0.]\n",
      " [ 0.  0.  0.]]\n",
      "-7.0\n",
      "[ 1.  0. -0.]\n",
      "[[ 0.  0.  0.]\n",
      " [ 0. -1.  0.]\n",
      " [ 0.  0.  0.]]\n",
      "-1.0\n",
      "[-0.  1. -0.]\n",
      "[[0. 0. 0.]\n",
      " [0. 0. 0.]\n",
      " [0. 0. 0.]]\n"
     ]
    }
   ],
   "source": [
    "mat = np.array([[-7, 0, 0],\n",
    "                [0, -1, 0],\n",
    "                [0, 0, -25]])\n",
    "print(mat.T)\n",
    "e, x = powerMethod(mat)\n",
    "print(e)\n",
    "print(x)\n",
    "\n",
    "deflat = deflate(mat)\n",
    "print(deflat)\n",
    "\n",
    "mat = deflat\n",
    "\n",
    "e, x = powerMethod(mat)\n",
    "print(e)\n",
    "print(x)\n",
    "\n",
    "deflat = deflate(mat)\n",
    "print(deflat)\n",
    "\n",
    "mat = deflat\n",
    "\n",
    "e, x = powerMethod(mat)\n",
    "print(e)\n",
    "print(x)\n",
    "\n",
    "print(deflate(deflat))"
   ]
  },
  {
   "cell_type": "code",
   "execution_count": 115,
   "metadata": {
    "ExecuteTime": {
     "end_time": "2018-12-13T09:47:05.168400Z",
     "start_time": "2018-12-13T09:47:05.131611Z"
    }
   },
   "outputs": [
    {
     "name": "stdout",
     "output_type": "stream",
     "text": [
      "2.639802004232656\n",
      "[0.56298354 1.         0.07681847]\n"
     ]
    }
   ],
   "source": [
    "mat = np.array([[1, 1, -1],\n",
    "                [1, 2, 1],\n",
    "                [2, -1, 1]])\n",
    "e, x = powerMethod(mat)\n",
    "print(e)\n",
    "print(x)"
   ]
  },
  {
   "cell_type": "code",
   "execution_count": 116,
   "metadata": {
    "ExecuteTime": {
     "end_time": "2018-12-13T09:47:05.234705Z",
     "start_time": "2018-12-13T09:47:05.171576Z"
    }
   },
   "outputs": [
    {
     "name": "stdout",
     "output_type": "stream",
     "text": [
      "-3.0\n",
      "[-0.33333333  1.         -0.66666667]\n"
     ]
    }
   ],
   "source": [
    "mat = np.array([[-2, 1, 1],\n",
    "                [3, -2, 0],\n",
    "                [1, 3, 1]])\n",
    "e, x = powerMethod(mat)\n",
    "print(e)\n",
    "print(x)"
   ]
  },
  {
   "cell_type": "code",
   "execution_count": 117,
   "metadata": {
    "ExecuteTime": {
     "end_time": "2018-12-13T09:47:05.307580Z",
     "start_time": "2018-12-13T09:47:05.236755Z"
    }
   },
   "outputs": [
    {
     "name": "stdout",
     "output_type": "stream",
     "text": [
      "6.701562118716424\n",
      "[ 1.         -0.74031242]\n"
     ]
    }
   ],
   "source": [
    "mat = np.array([[3, -5],\n",
    "                [-2, 4]])\n",
    "e, x = powerMethod(mat)\n",
    "print(e)\n",
    "print(x)"
   ]
  },
  {
   "cell_type": "code",
   "execution_count": 118,
   "metadata": {
    "ExecuteTime": {
     "end_time": "2018-12-13T09:47:05.396725Z",
     "start_time": "2018-12-13T09:47:05.320375Z"
    }
   },
   "outputs": [
    {
     "name": "stdout",
     "output_type": "stream",
     "text": [
      "5.372281323269014\n",
      "[0.45742711 1.        ]\n"
     ]
    }
   ],
   "source": [
    "mat = np.array([[1, 2],\n",
    "                [3, 4]])\n",
    "e, x = powerMethod(mat)\n",
    "print(e)\n",
    "print(x)"
   ]
  },
  {
   "cell_type": "code",
   "execution_count": 119,
   "metadata": {
    "ExecuteTime": {
     "end_time": "2018-12-13T09:47:05.454773Z",
     "start_time": "2018-12-13T09:47:05.400116Z"
    }
   },
   "outputs": [
    {
     "name": "stdout",
     "output_type": "stream",
     "text": [
      "7.0\n",
      "[0.6 1. ]\n"
     ]
    }
   ],
   "source": [
    "mat = np.array([[2, 3],\n",
    "                [5, 4]])\n",
    "e, x = powerMethod(mat)\n",
    "print(e)\n",
    "print(x)"
   ]
  },
  {
   "cell_type": "code",
   "execution_count": 120,
   "metadata": {
    "ExecuteTime": {
     "end_time": "2018-12-13T09:47:05.533466Z",
     "start_time": "2018-12-13T09:47:05.458139Z"
    }
   },
   "outputs": [
    {
     "name": "stdout",
     "output_type": "stream",
     "text": [
      "5.0\n",
      "[1.  0.5]\n"
     ]
    }
   ],
   "source": [
    "mat = np.array([[4, 2],\n",
    "                [1, 3]])\n",
    "e, x = powerMethod(mat)\n",
    "print(e)\n",
    "print(x)"
   ]
  },
  {
   "cell_type": "code",
   "execution_count": null,
   "metadata": {},
   "outputs": [],
   "source": []
  },
  {
   "cell_type": "code",
   "execution_count": null,
   "metadata": {},
   "outputs": [],
   "source": []
  }
 ],
 "metadata": {
  "kernelspec": {
   "display_name": "Python 3",
   "language": "python",
   "name": "python3"
  },
  "language_info": {
   "codemirror_mode": {
    "name": "ipython",
    "version": 3
   },
   "file_extension": ".py",
   "mimetype": "text/x-python",
   "name": "python",
   "nbconvert_exporter": "python",
   "pygments_lexer": "ipython3",
   "version": "3.6.5"
  }
 },
 "nbformat": 4,
 "nbformat_minor": 2
}
