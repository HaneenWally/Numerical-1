{
 "cells": [
  {
   "cell_type": "markdown",
   "metadata": {},
   "source": [
    "# Source Code"
   ]
  },
  {
   "cell_type": "code",
   "execution_count": 143,
   "metadata": {
    "ExecuteTime": {
     "end_time": "2018-12-13T10:08:16.018263Z",
     "start_time": "2018-12-13T10:08:15.984008Z"
    }
   },
   "outputs": [],
   "source": [
    "import numpy as np\n",
    "\n",
    "\n",
    "def powerMethod(A, initial=None, epsilon=None, numberOfIterations=100, minEigen=False):\n",
    "    \"\"\"\n",
    "    A function to calculate largest eigen value and eigen vector of a matrix\n",
    "\n",
    "    Args: \n",
    "            A (numpy array): Matrix to get eigen value/vector (size n*n)\n",
    "            initial (numpy array): Vector used as initial guess of eigen vector (size 1*n)\n",
    "            epsilon (float): Stopping criteria at which eigen value is considered converged\n",
    "            numberOfIterations (int): Number of iterations untill stopping\n",
    "            minEigen (boolean): Calculate smallest eigen value or largest\n",
    "\n",
    "    Returns:\n",
    "            eigenValue (float)\n",
    "            eigenVector (numpy array)\n",
    "\n",
    "    Raises:\n",
    "            TypeError\n",
    "            ValueError\n",
    "\n",
    "    \"\"\"\n",
    "\n",
    "    ##Validate input##\n",
    "\n",
    "    # negative number of iterations\n",
    "    if numberOfIterations <= 0:\n",
    "        raise ValueError(\"Number of iterations should be positive\")\n",
    "\n",
    "    # invalid type of matrix A\n",
    "    if not isinstance(A, np.ndarray):\n",
    "        raise TypeError(\"A should be of type numpy.ndarray\")\n",
    "\n",
    "    # invalid type of vector initial\n",
    "    if (initial is not None) and (not isinstance(A, np.ndarray)):\n",
    "        raise TypeError(\"initial should be of type numpy.ndarray\")\n",
    "\n",
    "    # check initial is 1d array\n",
    "    if (initial is not None) and (initial.ndim != 1):\n",
    "        raise TypeError(\"initial should be 1D array\")\n",
    "\n",
    "    # number of iterations is not integer\n",
    "    if not isinstance(numberOfIterations, int):\n",
    "        raise TypeError(\"Number of iterations should be integer\")\n",
    "\n",
    "    #matrix is not square\n",
    "    if A.shape[0] != A.shape[1]:\n",
    "        raise TypeError(\"Matrix should be square\")\n",
    "\n",
    "    # check size of initial vector\n",
    "    if (initial is not None) and (initial.shape[0] != A.shape[1]):\n",
    "        raise TypeError(\"Length of initial vector should match size of matrix\")\n",
    "\n",
    "    ##Calculate eigen pair##\n",
    "\n",
    "    # dimension of matrix\n",
    "    n = A.shape[0]\n",
    "\n",
    "    if minEigen:\n",
    "        try:\n",
    "            A = np.linalg.inv(A)\n",
    "        except:\n",
    "            #Matrix is not invertible\n",
    "            raise TypeError(\"Matrix should be invertible\")\n",
    "\n",
    "    if initial is None:\n",
    "        # initial guess for eigen vector\n",
    "        x = np.ones(n, dtype=np.float32)\n",
    "    else:\n",
    "        x = initial.copy()\n",
    "        x = x.astype(np.float32)\n",
    "\n",
    "    # Relative approximate error between each iteration\n",
    "    error = None\n",
    "    # Eigen value calculated at previous iteration\n",
    "    prevEigen = None\n",
    "\n",
    "    # iterate to get eigen value/eigen vector\n",
    "    # Stops after numberOfIterations or after error is less than epsilon\n",
    "    # whichever comes first\n",
    "    for i in range(numberOfIterations):\n",
    "        x = np.dot(A, x)\n",
    "        eigenValue = x[np.argmax(np.abs(x))]\n",
    "        x /= eigenValue\n",
    "        if prevEigen is not None:\n",
    "            \n",
    "            #I believe it should be relative error, not relative approximate error\n",
    "            #but doctor asked us to do it as relative approximate error, so I did it\n",
    "            #error = abs(eigenValue-prevEigen)\n",
    "            error = abs((eigenValue-prevEigen)/eigenValue)\n",
    "\n",
    "            if (epsilon is not None) and (error <= epsilon):\n",
    "                break\n",
    "        prevEigen = eigenValue\n",
    "\n",
    "    if(minEigen and eigenValue != 0):\n",
    "        eigenValue = 1/eigenValue\n",
    "\n",
    "    # Eigen Value, Eigen Vector, Relative approximate error\n",
    "    return eigenValue, x, error"
   ]
  },
  {
   "cell_type": "code",
   "execution_count": 144,
   "metadata": {
    "ExecuteTime": {
     "end_time": "2018-12-13T10:08:16.110984Z",
     "start_time": "2018-12-13T10:08:16.022817Z"
    }
   },
   "outputs": [],
   "source": [
    "def deflate(A):\n",
    "    \"\"\"\n",
    "    A function to calculate deflated matrix\n",
    "\n",
    "    Args: \n",
    "            A (numpy array): Matrix to get deflated matrix\n",
    "\n",
    "    Returns:\n",
    "            deflatedMat (numpy array): Deflated matrix\n",
    "\n",
    "    Raises:\n",
    "            TypeError\n",
    "            ValueError\n",
    "\n",
    "    \"\"\"\n",
    "    eigenValue, eigenVector,error = powerMethod(A)\n",
    "    norm = np.sum(np.square(eigenVector))\n",
    "    return A-eigenValue/norm*np.outer(eigenVector, eigenVector.T)"
   ]
  },
  {
   "cell_type": "markdown",
   "metadata": {},
   "source": [
    "# Test Cases"
   ]
  },
  {
   "cell_type": "code",
   "execution_count": 167,
   "metadata": {
    "ExecuteTime": {
     "end_time": "2018-12-13T10:09:30.930681Z",
     "start_time": "2018-12-13T10:09:30.912699Z"
    }
   },
   "outputs": [
    {
     "name": "stdout",
     "output_type": "stream",
     "text": [
      "5.302775637731995\n",
      "[-0.30277564  1.         -1.          0.30277564]\n",
      "0.0\n"
     ]
    }
   ],
   "source": [
    "np.set_printoptions(suppress=True)\n",
    "\n",
    "mat = np.array([[2, -1, 0, 0],\n",
    "                [-1, 4, -1, 0],\n",
    "                [0, -1, 4, -1],\n",
    "                [0, 0, -1, 2]])\n",
    "\n",
    "# Example of initial guess\n",
    "init = np.array([2, -1, 0, 0])\n",
    "e, x, error = powerMethod(mat, initial=init)\n",
    "print(e)\n",
    "print(x)\n",
    "print(error)"
   ]
  },
  {
   "cell_type": "code",
   "execution_count": 173,
   "metadata": {
    "ExecuteTime": {
     "end_time": "2018-12-13T10:13:07.027191Z",
     "start_time": "2018-12-13T10:13:07.013802Z"
    }
   },
   "outputs": [
    {
     "name": "stdout",
     "output_type": "stream",
     "text": [
      "4.0\n",
      "[1. 1.]\n",
      "0.0\n",
      "[[-1.  1.]\n",
      " [ 0.  0.]]\n"
     ]
    }
   ],
   "source": [
    "mat = np.array([[1, 3],\n",
    "                [2, 2]])\n",
    "e, x, error = powerMethod(mat)\n",
    "print(e)\n",
    "print(x)\n",
    "print(error)\n",
    "print(deflate(mat))"
   ]
  },
  {
   "cell_type": "code",
   "execution_count": 174,
   "metadata": {
    "ExecuteTime": {
     "end_time": "2018-12-13T10:13:40.259897Z",
     "start_time": "2018-12-13T10:13:40.240099Z"
    }
   },
   "outputs": [
    {
     "name": "stdout",
     "output_type": "stream",
     "text": [
      "7.0\n",
      "[ 1.         -0.95918367]\n",
      "0.0\n",
      "[[-2.5 -2.5]\n",
      " [ 3.5  3.5]]\n",
      "1.0000000000000009\n",
      "[-0.71428571  1.        ]\n",
      "4.440892098500622e-16\n",
      "[[-2.83783784 -2.02702703]\n",
      " [ 3.97297297  2.83783784]]\n"
     ]
    }
   ],
   "source": [
    "mat = np.array([[-7, 2],\n",
    "                [8, -1]])\n",
    "\n",
    "e, x, error = powerMethod(mat)\n",
    "print(e)\n",
    "print(x)\n",
    "print(error)\n",
    "print(deflate(mat))\n",
    "\n",
    "mat = deflate(mat)\n",
    "\n",
    "e, x, error = powerMethod(mat)\n",
    "print(e)\n",
    "print(x)\n",
    "print(error)\n",
    "print(deflate(mat))"
   ]
  },
  {
   "cell_type": "code",
   "execution_count": 148,
   "metadata": {
    "ExecuteTime": {
     "end_time": "2018-12-13T10:08:16.443885Z",
     "start_time": "2018-12-13T10:08:16.373201Z"
    }
   },
   "outputs": [
    {
     "name": "stdout",
     "output_type": "stream",
     "text": [
      "7.0\n",
      "[0.5 1.  1. ]\n",
      "0.0\n",
      "[[ 2.22222222  0.44444444 -1.55555556]\n",
      " [ 0.44444444  0.88888889 -1.11111111]\n",
      " [-1.55555556 -1.11111111  1.88888889]]\n",
      "4.0\n",
      "[-1.  -0.5  1. ]\n",
      "0.0\n",
      "1.0000000000000002\n",
      "[ 1.  -1.   0.5]\n",
      "0.0\n"
     ]
    }
   ],
   "source": [
    "mat = np.array([[3, 2, 0],\n",
    "                [2, 4, 2],\n",
    "                [0, 2, 5]])\n",
    "e, x, error = powerMethod(mat)\n",
    "print(e)\n",
    "print(x)\n",
    "print(error)\n",
    "print(deflate(mat))\n",
    "\n",
    "e, x, error = powerMethod(deflate(mat), numberOfIterations=100)\n",
    "print(e)\n",
    "print(x)\n",
    "print(error)\n",
    "\n",
    "e, x, error = powerMethod(mat, minEigen=True)\n",
    "print(e)\n",
    "print(x)\n",
    "print(error)"
   ]
  },
  {
   "cell_type": "code",
   "execution_count": 149,
   "metadata": {
    "ExecuteTime": {
     "end_time": "2018-12-13T10:08:16.507490Z",
     "start_time": "2018-12-13T10:08:16.446430Z"
    }
   },
   "outputs": [
    {
     "name": "stdout",
     "output_type": "stream",
     "text": [
      "3.0\n",
      "[1. 0.]\n",
      "0.0\n",
      "[[ 0. -0.]\n",
      " [-0.  2.]]\n",
      "2.0\n",
      "[-0.  1.]\n",
      "0.0\n"
     ]
    }
   ],
   "source": [
    "mat = np.array([[3, 0],\n",
    "                [0, 2]])\n",
    "\n",
    "e, x, error = powerMethod(mat)\n",
    "print(e)\n",
    "print(x)\n",
    "print(error)\n",
    "\n",
    "print(deflate(mat))\n",
    "\n",
    "e, x, error = powerMethod(deflate(mat))\n",
    "print(e)\n",
    "print(x)\n",
    "print(error)"
   ]
  },
  {
   "cell_type": "code",
   "execution_count": 176,
   "metadata": {
    "ExecuteTime": {
     "end_time": "2018-12-13T10:14:37.011363Z",
     "start_time": "2018-12-13T10:14:36.986485Z"
    }
   },
   "outputs": [
    {
     "name": "stdout",
     "output_type": "stream",
     "text": [
      "6.499999999999998\n",
      "[ 1.          0.73076923 -0.18803419]\n",
      "0.10769230769230816\n",
      "[[-7.81508516 11.27493917  0.95377129]\n",
      " [-7.72506083 11.05352798  0.68126521]\n",
      " [-0.04622871  0.68126521  1.76155718]]\n",
      "2.9999999999999902\n",
      "[1.         0.91958042 0.46853147]\n",
      "0.0\n",
      "2.0\n",
      "[-0. -0.  1.]\n",
      "0.0\n"
     ]
    }
   ],
   "source": [
    "mat = np.array([[-4, 14, 0],\n",
    "                [-5, 13, 0],\n",
    "                [-1, 0, 2]])\n",
    "\n",
    "e, x, error = powerMethod(mat,epsilon=0.2)\n",
    "print(e)\n",
    "print(x)\n",
    "print(error)\n",
    "\n",
    "print(deflate(mat))\n",
    "\n",
    "e, x, error = powerMethod(deflate(mat))\n",
    "print(e)\n",
    "print(x)\n",
    "print(error)\n",
    "\n",
    "e, x, error = powerMethod(mat, minEigen=True)\n",
    "print(e)\n",
    "print(x)\n",
    "print(error)"
   ]
  },
  {
   "cell_type": "code",
   "execution_count": 151,
   "metadata": {
    "ExecuteTime": {
     "end_time": "2018-12-13T10:08:16.650001Z",
     "start_time": "2018-12-13T10:08:16.585633Z"
    }
   },
   "outputs": [
    {
     "name": "stdout",
     "output_type": "stream",
     "text": [
      "0.5\n",
      "[1. 1.]\n",
      "3.0\n",
      "[[ 0.75  0.75]\n",
      " [-0.25 -1.25]]\n"
     ]
    }
   ],
   "source": [
    "mat = np.array([[1, 1],\n",
    "                [0, -1]])\n",
    "\n",
    "e, x, error = powerMethod(mat)\n",
    "print(e)\n",
    "print(x)\n",
    "print(error)\n",
    "\n",
    "print(deflate(mat))"
   ]
  },
  {
   "cell_type": "code",
   "execution_count": 152,
   "metadata": {
    "ExecuteTime": {
     "end_time": "2018-12-13T10:08:16.742643Z",
     "start_time": "2018-12-13T10:08:16.652122Z"
    }
   },
   "outputs": [
    {
     "name": "stdout",
     "output_type": "stream",
     "text": [
      "3.9999999999999076\n",
      "[ 0.33333333  0.         -0.66666667  1.          0.          0.33333333]\n",
      "2.8421709430404664e-14\n",
      "[[  86.73333333  270.          -11.46666667  -49.8        -276.\n",
      "    39.73333333]\n",
      " [ -14.          -45.            6.           10.           46.\n",
      "    -4.        ]\n",
      " [ -49.46666667 -156.            2.93333333   26.6         162.\n",
      "   -24.46666667]\n",
      " [  93.2         294.           -3.4         -49.4        -306.\n",
      "    48.2       ]\n",
      " [   1.            1.            3.            1.           -0.\n",
      "     2.        ]\n",
      " [  15.73333333   48.            1.53333333   -6.8         -48.\n",
      "     7.73333333]]\n"
     ]
    }
   ],
   "source": [
    "mat = np.array([[87, 270, -12, -49, -276, 40],\n",
    "                [-14, -45, 6, 10, 46, -4],\n",
    "                [-50, -156, 4, 25, 162, -25],\n",
    "                [94, 294, -5, -47, -306, 49],\n",
    "                [1, 1, 3, 1, 0, 2],\n",
    "                [16, 48, 1, -6, -48, 8]])\n",
    "\n",
    "e, x, error = powerMethod(mat)\n",
    "print(e)\n",
    "print(x)\n",
    "print(error)\n",
    "\n",
    "print(deflate(mat))"
   ]
  },
  {
   "cell_type": "code",
   "execution_count": 153,
   "metadata": {
    "ExecuteTime": {
     "end_time": "2018-12-13T10:08:16.861335Z",
     "start_time": "2018-12-13T10:08:16.747243Z"
    }
   },
   "outputs": [
    {
     "name": "stdout",
     "output_type": "stream",
     "text": [
      "-25.0\n",
      "[0. 0. 1.]\n",
      "0.0\n",
      "[[-7.  0.  0.]\n",
      " [ 0. -1.  0.]\n",
      " [ 0.  0.  0.]]\n",
      "-7.0\n",
      "[ 1.  0. -0.]\n",
      "0.0\n",
      "[[ 0.  0.  0.]\n",
      " [ 0. -1.  0.]\n",
      " [ 0.  0.  0.]]\n",
      "-1.0\n",
      "[-0.  1. -0.]\n",
      "0.0\n",
      "[[0. 0. 0.]\n",
      " [0. 0. 0.]\n",
      " [0. 0. 0.]]\n"
     ]
    }
   ],
   "source": [
    "mat = np.array([[-7, 0, 0],\n",
    "                [0, -1, 0],\n",
    "                [0, 0, -25]])\n",
    "\n",
    "e, x, error = powerMethod(mat)\n",
    "print(e)\n",
    "print(x)\n",
    "print(error)\n",
    "\n",
    "deflat = deflate(mat)\n",
    "print(deflat)\n",
    "\n",
    "mat = deflat\n",
    "\n",
    "e, x, error = powerMethod(mat)\n",
    "print(e)\n",
    "print(x)\n",
    "print(error)\n",
    "\n",
    "deflat = deflate(mat)\n",
    "print(deflat)\n",
    "\n",
    "mat = deflat\n",
    "\n",
    "e, x, error = powerMethod(mat)\n",
    "print(e)\n",
    "print(x)\n",
    "print(error)\n",
    "\n",
    "print(deflate(deflat))"
   ]
  },
  {
   "cell_type": "code",
   "execution_count": 154,
   "metadata": {
    "ExecuteTime": {
     "end_time": "2018-12-13T10:08:16.892457Z",
     "start_time": "2018-12-13T10:08:16.871846Z"
    }
   },
   "outputs": [
    {
     "name": "stdout",
     "output_type": "stream",
     "text": [
      "2.639802004232656\n",
      "[0.56298354 1.         0.07681847]\n",
      "3.364564532779431e-16\n"
     ]
    }
   ],
   "source": [
    "mat = np.array([[1, 1, -1],\n",
    "                [1, 2, 1],\n",
    "                [2, -1, 1]])\n",
    "e, x, error = powerMethod(mat)\n",
    "print(e)\n",
    "print(x)\n",
    "print(error)"
   ]
  },
  {
   "cell_type": "code",
   "execution_count": 155,
   "metadata": {
    "ExecuteTime": {
     "end_time": "2018-12-13T10:08:16.971983Z",
     "start_time": "2018-12-13T10:08:16.899449Z"
    }
   },
   "outputs": [
    {
     "name": "stdout",
     "output_type": "stream",
     "text": [
      "-3.0\n",
      "[-0.33333333  1.         -0.66666667]\n",
      "0.0\n"
     ]
    }
   ],
   "source": [
    "mat = np.array([[-2, 1, 1],\n",
    "                [3, -2, 0],\n",
    "                [1, 3, 1]])\n",
    "e, x, error = powerMethod(mat)\n",
    "print(e)\n",
    "print(x)\n",
    "print(error)"
   ]
  },
  {
   "cell_type": "code",
   "execution_count": 156,
   "metadata": {
    "ExecuteTime": {
     "end_time": "2018-12-13T10:08:17.058307Z",
     "start_time": "2018-12-13T10:08:16.974099Z"
    }
   },
   "outputs": [
    {
     "name": "stdout",
     "output_type": "stream",
     "text": [
      "6.701562118716424\n",
      "[ 1.         -0.74031242]\n",
      "0.0\n"
     ]
    }
   ],
   "source": [
    "mat = np.array([[3, -5],\n",
    "                [-2, 4]])\n",
    "e, x, error = powerMethod(mat)\n",
    "print(e)\n",
    "print(x)\n",
    "print(error)"
   ]
  },
  {
   "cell_type": "code",
   "execution_count": 157,
   "metadata": {
    "ExecuteTime": {
     "end_time": "2018-12-13T10:08:17.116759Z",
     "start_time": "2018-12-13T10:08:17.069297Z"
    }
   },
   "outputs": [
    {
     "name": "stdout",
     "output_type": "stream",
     "text": [
      "5.372281323269014\n",
      "[0.45742711 1.        ]\n",
      "0.0\n"
     ]
    }
   ],
   "source": [
    "mat = np.array([[1, 2],\n",
    "                [3, 4]])\n",
    "e, x, error = powerMethod(mat)\n",
    "print(e)\n",
    "print(x)\n",
    "print(error)"
   ]
  },
  {
   "cell_type": "code",
   "execution_count": 158,
   "metadata": {
    "ExecuteTime": {
     "end_time": "2018-12-13T10:08:17.181983Z",
     "start_time": "2018-12-13T10:08:17.119945Z"
    }
   },
   "outputs": [
    {
     "name": "stdout",
     "output_type": "stream",
     "text": [
      "7.0\n",
      "[0.6 1. ]\n",
      "0.0\n"
     ]
    }
   ],
   "source": [
    "mat = np.array([[2, 3],\n",
    "                [5, 4]])\n",
    "e, x, error = powerMethod(mat)\n",
    "print(e)\n",
    "print(x)\n",
    "print(error)"
   ]
  },
  {
   "cell_type": "code",
   "execution_count": 159,
   "metadata": {
    "ExecuteTime": {
     "end_time": "2018-12-13T10:08:17.264504Z",
     "start_time": "2018-12-13T10:08:17.183994Z"
    }
   },
   "outputs": [
    {
     "name": "stdout",
     "output_type": "stream",
     "text": [
      "5.0\n",
      "[1.  0.5]\n",
      "0.0\n"
     ]
    }
   ],
   "source": [
    "mat = np.array([[4, 2],\n",
    "                [1, 3]])\n",
    "e, x, error = powerMethod(mat)\n",
    "print(e)\n",
    "print(x)\n",
    "print(error)"
   ]
  },
  {
   "cell_type": "code",
   "execution_count": null,
   "metadata": {},
   "outputs": [],
   "source": []
  },
  {
   "cell_type": "code",
   "execution_count": null,
   "metadata": {},
   "outputs": [],
   "source": []
  }
 ],
 "metadata": {
  "kernelspec": {
   "display_name": "Python 3",
   "language": "python",
   "name": "python3"
  },
  "language_info": {
   "codemirror_mode": {
    "name": "ipython",
    "version": 3
   },
   "file_extension": ".py",
   "mimetype": "text/x-python",
   "name": "python",
   "nbconvert_exporter": "python",
   "pygments_lexer": "ipython3",
   "version": "3.6.5"
  }
 },
 "nbformat": 4,
 "nbformat_minor": 2
}
